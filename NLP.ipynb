{
 "cells": [
  {
   "cell_type": "code",
   "execution_count": 1,
   "id": "632bebfa-de3d-41ca-9fc5-c9850ac6cfe1",
   "metadata": {},
   "outputs": [
    {
     "name": "stdout",
     "output_type": "stream",
     "text": [
      "Requirement already satisfied: nltk in c:\\users\\chandramouli bandaru\\anaconda3\\lib\\site-packages (3.8.1)\n",
      "Requirement already satisfied: click in c:\\users\\chandramouli bandaru\\anaconda3\\lib\\site-packages (from nltk) (8.1.7)\n",
      "Requirement already satisfied: joblib in c:\\users\\chandramouli bandaru\\anaconda3\\lib\\site-packages (from nltk) (1.4.2)\n",
      "Requirement already satisfied: regex>=2021.8.3 in c:\\users\\chandramouli bandaru\\anaconda3\\lib\\site-packages (from nltk) (2023.10.3)\n",
      "Requirement already satisfied: tqdm in c:\\users\\chandramouli bandaru\\anaconda3\\lib\\site-packages (from nltk) (4.66.4)\n",
      "Requirement already satisfied: colorama in c:\\users\\chandramouli bandaru\\anaconda3\\lib\\site-packages (from click->nltk) (0.4.6)\n",
      "Note: you may need to restart the kernel to use updated packages.\n"
     ]
    }
   ],
   "source": [
    "pip install nltk"
   ]
  },
  {
   "cell_type": "code",
   "execution_count": 11,
   "id": "4df5dc27-cb2c-4738-8423-fbe070abebd4",
   "metadata": {},
   "outputs": [],
   "source": [
    "corpus=\"\"\"Hello chandra mouli he want to be some xxx and he welcomes to his homr. \n",
    "he just want to be a invite you for some work in his house so please attend.\n",
    "here it was just a small kidding played by him.\n",
    "but please attend to this party\"\"\""
   ]
  },
  {
   "cell_type": "code",
   "execution_count": 13,
   "id": "f2239d97-8fd8-4537-ac7b-98494b2cdcdd",
   "metadata": {},
   "outputs": [
    {
     "data": {
      "text/plain": [
       "'Hello chandra mouli he want to be some xxx and he welcomes to his homr. \\nhe just want to be a invite you for some work in his house so please attend.\\nhere it was just a small kidding played by him.\\nbut please attend to this party'"
      ]
     },
     "execution_count": 13,
     "metadata": {},
     "output_type": "execute_result"
    }
   ],
   "source": [
    "corpus"
   ]
  },
  {
   "cell_type": "markdown",
   "id": "308f143c-b826-4142-a1d0-3267e689b2dd",
   "metadata": {},
   "source": [
    "## Tokenization"
   ]
  },
  {
   "cell_type": "code",
   "execution_count": 20,
   "id": "64514eca-f3ea-4d67-95d4-2de56e93103a",
   "metadata": {},
   "outputs": [],
   "source": [
    "from nltk.tokenize import sent_tokenize "
   ]
  },
  {
   "cell_type": "code",
   "execution_count": 30,
   "id": "3a8f3c85-7d64-4080-951a-399e6524e509",
   "metadata": {},
   "outputs": [
    {
     "data": {
      "text/plain": [
       "['Hello chandra mouli he want to be some xxx and he welcomes to his homr.',\n",
       " 'he just want to be a invite you for some work in his house so please attend.',\n",
       " 'here it was just a small kidding played by him.',\n",
       " 'but please attend to this party']"
      ]
     },
     "execution_count": 30,
     "metadata": {},
     "output_type": "execute_result"
    }
   ],
   "source": [
    "sent_tokenize(corpus)"
   ]
  },
  {
   "cell_type": "code",
   "execution_count": 28,
   "id": "7c43d9cd-b00e-44e8-b25f-fc09cf3ee494",
   "metadata": {},
   "outputs": [
    {
     "name": "stderr",
     "output_type": "stream",
     "text": [
      "[nltk_data] Downloading package punkt to C:\\Users\\Chandramouli\n",
      "[nltk_data]     bandaru\\AppData\\Roaming\\nltk_data...\n",
      "[nltk_data]   Unzipping tokenizers\\punkt.zip.\n"
     ]
    },
    {
     "data": {
      "text/plain": [
       "True"
      ]
     },
     "execution_count": 28,
     "metadata": {},
     "output_type": "execute_result"
    }
   ],
   "source": [
    "import nltk\n",
    "nltk.download('punkt')"
   ]
  },
  {
   "cell_type": "code",
   "execution_count": 36,
   "id": "ef5afee9-2301-4121-8147-06929e4958af",
   "metadata": {},
   "outputs": [
    {
     "data": {
      "text/plain": [
       "['Hello chandra mouli he want to be some xxx and he welcomes to his homr.',\n",
       " 'he just want to be a invite you for some work in his house so please attend.',\n",
       " 'here it was just a small kidding played by him.',\n",
       " 'but please attend to this party']"
      ]
     },
     "execution_count": 36,
     "metadata": {},
     "output_type": "execute_result"
    }
   ],
   "source": [
    "sent_tokenize(corpus)"
   ]
  },
  {
   "cell_type": "code",
   "execution_count": 38,
   "id": "5d543767-6472-46a9-88c0-adc2a20134a6",
   "metadata": {},
   "outputs": [],
   "source": [
    "from nltk.tokenize import word_tokenize"
   ]
  },
  {
   "cell_type": "code",
   "execution_count": 40,
   "id": "60bf5055-a663-41d4-ad91-f773ca2becc8",
   "metadata": {},
   "outputs": [
    {
     "data": {
      "text/plain": [
       "['Hello',\n",
       " 'chandra',\n",
       " 'mouli',\n",
       " 'he',\n",
       " 'want',\n",
       " 'to',\n",
       " 'be',\n",
       " 'some',\n",
       " 'xxx',\n",
       " 'and',\n",
       " 'he',\n",
       " 'welcomes',\n",
       " 'to',\n",
       " 'his',\n",
       " 'homr',\n",
       " '.',\n",
       " 'he',\n",
       " 'just',\n",
       " 'want',\n",
       " 'to',\n",
       " 'be',\n",
       " 'a',\n",
       " 'invite',\n",
       " 'you',\n",
       " 'for',\n",
       " 'some',\n",
       " 'work',\n",
       " 'in',\n",
       " 'his',\n",
       " 'house',\n",
       " 'so',\n",
       " 'please',\n",
       " 'attend',\n",
       " '.',\n",
       " 'here',\n",
       " 'it',\n",
       " 'was',\n",
       " 'just',\n",
       " 'a',\n",
       " 'small',\n",
       " 'kidding',\n",
       " 'played',\n",
       " 'by',\n",
       " 'him',\n",
       " '.',\n",
       " 'but',\n",
       " 'please',\n",
       " 'attend',\n",
       " 'to',\n",
       " 'this',\n",
       " 'party']"
      ]
     },
     "execution_count": 40,
     "metadata": {},
     "output_type": "execute_result"
    }
   ],
   "source": [
    "word_tokenize(corpus)"
   ]
  },
  {
   "cell_type": "code",
   "execution_count": 42,
   "id": "7c2fde01-1679-4065-b479-ac552f1073c5",
   "metadata": {},
   "outputs": [],
   "source": [
    "from nltk.tokenize import wordpunct_tokenize"
   ]
  },
  {
   "cell_type": "code",
   "execution_count": 44,
   "id": "a636dc1c-6bc3-4389-a108-7192bb002412",
   "metadata": {},
   "outputs": [
    {
     "data": {
      "text/plain": [
       "['Hello',\n",
       " 'chandra',\n",
       " 'mouli',\n",
       " 'he',\n",
       " 'want',\n",
       " 'to',\n",
       " 'be',\n",
       " 'some',\n",
       " 'xxx',\n",
       " 'and',\n",
       " 'he',\n",
       " 'welcomes',\n",
       " 'to',\n",
       " 'his',\n",
       " 'homr',\n",
       " '.',\n",
       " 'he',\n",
       " 'just',\n",
       " 'want',\n",
       " 'to',\n",
       " 'be',\n",
       " 'a',\n",
       " 'invite',\n",
       " 'you',\n",
       " 'for',\n",
       " 'some',\n",
       " 'work',\n",
       " 'in',\n",
       " 'his',\n",
       " 'house',\n",
       " 'so',\n",
       " 'please',\n",
       " 'attend',\n",
       " '.',\n",
       " 'here',\n",
       " 'it',\n",
       " 'was',\n",
       " 'just',\n",
       " 'a',\n",
       " 'small',\n",
       " 'kidding',\n",
       " 'played',\n",
       " 'by',\n",
       " 'him',\n",
       " '.',\n",
       " 'but',\n",
       " 'please',\n",
       " 'attend',\n",
       " 'to',\n",
       " 'this',\n",
       " 'party']"
      ]
     },
     "execution_count": 44,
     "metadata": {},
     "output_type": "execute_result"
    }
   ],
   "source": [
    "wordpunct_tokenize(corpus)"
   ]
  },
  {
   "cell_type": "code",
   "execution_count": 32,
   "id": "f8f91700-a834-4879-a8a9-8241b68faf83",
   "metadata": {},
   "outputs": [],
   "source": [
    "from nltk.tokenize import TreebankWordTokenizer"
   ]
  },
  {
   "cell_type": "code",
   "execution_count": 34,
   "id": "668b387b-c6c3-4225-a46f-934d6e24f756",
   "metadata": {},
   "outputs": [],
   "source": [
    "model=TreebankWordTokenizer()"
   ]
  },
  {
   "cell_type": "code",
   "execution_count": 36,
   "id": "b3ee3ce1-2b1d-4cf8-9949-1ecaf7b63b19",
   "metadata": {},
   "outputs": [
    {
     "data": {
      "text/plain": [
       "['Hello',\n",
       " 'chandra',\n",
       " 'mouli',\n",
       " 'he',\n",
       " 'want',\n",
       " 'to',\n",
       " 'be',\n",
       " 'some',\n",
       " 'xxx',\n",
       " 'and',\n",
       " 'he',\n",
       " 'welcomes',\n",
       " 'to',\n",
       " 'his',\n",
       " 'homr.',\n",
       " 'he',\n",
       " 'just',\n",
       " 'want',\n",
       " 'to',\n",
       " 'be',\n",
       " 'a',\n",
       " 'invite',\n",
       " 'you',\n",
       " 'for',\n",
       " 'some',\n",
       " 'work',\n",
       " 'in',\n",
       " 'his',\n",
       " 'house',\n",
       " 'so',\n",
       " 'please',\n",
       " 'attend.',\n",
       " 'here',\n",
       " 'it',\n",
       " 'was',\n",
       " 'just',\n",
       " 'a',\n",
       " 'small',\n",
       " 'kidding',\n",
       " 'played',\n",
       " 'by',\n",
       " 'him.',\n",
       " 'but',\n",
       " 'please',\n",
       " 'attend',\n",
       " 'to',\n",
       " 'this',\n",
       " 'party']"
      ]
     },
     "execution_count": 36,
     "metadata": {},
     "output_type": "execute_result"
    }
   ],
   "source": [
    "model.tokenize(corpus)"
   ]
  },
  {
   "cell_type": "markdown",
   "id": "1029ada7-dbf0-4c61-800b-c9171a1e27e1",
   "metadata": {},
   "source": [
    "## Stemming "
   ]
  },
  {
   "cell_type": "code",
   "execution_count": 38,
   "id": "875ec32f-ec53-4d0d-9e5d-3a4deab6e7d7",
   "metadata": {},
   "outputs": [],
   "source": [
    "words=[\"eating\", \"eats\", \"writing\", \"writes\", \"cars\", \"flies\", \"mice\"]"
   ]
  },
  {
   "cell_type": "markdown",
   "id": "052c7504-26b4-42ab-99d0-29a2ef5ae920",
   "metadata": {},
   "source": [
    "### PotterStemmer\n"
   ]
  },
  {
   "cell_type": "code",
   "execution_count": 40,
   "id": "4972d77c-1ff4-4f3a-8d62-447b37d2f9ac",
   "metadata": {},
   "outputs": [],
   "source": [
    "from nltk.stem import PorterStemmer"
   ]
  },
  {
   "cell_type": "code",
   "execution_count": 42,
   "id": "347038c6-3970-4f86-895a-e448f9cc2a23",
   "metadata": {},
   "outputs": [],
   "source": [
    "stemming=PorterStemmer()"
   ]
  },
  {
   "cell_type": "code",
   "execution_count": 56,
   "id": "d7ccee57-0bb8-44b9-8d1d-87b7d6c5ebd0",
   "metadata": {},
   "outputs": [
    {
     "name": "stdout",
     "output_type": "stream",
     "text": [
      "eat\n",
      "eat\n",
      "write\n",
      "write\n",
      "car\n",
      "fli\n",
      "mice\n"
     ]
    }
   ],
   "source": [
    "for i in words:\n",
    "    print(stemming.stem(i))"
   ]
  },
  {
   "cell_type": "markdown",
   "id": "0be4bad4-3413-4232-9781-669bd7b8ef87",
   "metadata": {},
   "source": [
    "## RegexpStemmer class"
   ]
  },
  {
   "cell_type": "code",
   "execution_count": 58,
   "id": "bb0d4e66-6481-43f6-810f-d43e0ac31cf2",
   "metadata": {},
   "outputs": [],
   "source": [
    "from nltk.stem import RegexpStemmer"
   ]
  },
  {
   "cell_type": "code",
   "execution_count": 62,
   "id": "6cda5e80-f9f2-4c2d-bafa-94e225718541",
   "metadata": {},
   "outputs": [],
   "source": [
    "reg=RegexpStemmer('ing$|s$|e$|able$', min=4)\n",
    "\n"
   ]
  },
  {
   "cell_type": "code",
   "execution_count": 94,
   "id": "c8aed82e-1899-4b3d-bdd7-721df2cbd48f",
   "metadata": {},
   "outputs": [],
   "source": [
    "from nltk.stem import SnowballStemmer"
   ]
  },
  {
   "cell_type": "code",
   "execution_count": 100,
   "id": "2191b0bb-9e14-4056-91e5-8e0cf55874dd",
   "metadata": {},
   "outputs": [],
   "source": [
    "ss=SnowballStemmer('english')"
   ]
  },
  {
   "cell_type": "code",
   "execution_count": 102,
   "id": "b6f30dec-3cbc-4e59-8904-3b1993720124",
   "metadata": {},
   "outputs": [
    {
     "name": "stdout",
     "output_type": "stream",
     "text": [
      "eating--->eat\n",
      "eats--->eat\n",
      "writing--->write\n",
      "writes--->write\n",
      "cars--->car\n",
      "flies--->fli\n",
      "mice--->mice\n"
     ]
    }
   ],
   "source": [
    "for word in words:\n",
    "    print(word+\"--->\"+ss.stem(word))"
   ]
  },
  {
   "cell_type": "code",
   "execution_count": 1,
   "id": "2bd4ab47-3217-429d-8c74-25f910cf4be9",
   "metadata": {},
   "outputs": [],
   "source": [
    " from nltk.stem import SnowballStemmer"
   ]
  },
  {
   "cell_type": "code",
   "execution_count": 5,
   "id": "ae9167fa-a928-4ff5-9152-a69b78fd07ce",
   "metadata": {},
   "outputs": [],
   "source": [
    "stemm=SnowballStemmer('english')"
   ]
  },
  {
   "cell_type": "code",
   "execution_count": 17,
   "id": "860a2d47-a13c-4da8-a54c-a523729b756c",
   "metadata": {},
   "outputs": [],
   "source": [
    "s=stemm.stem(corpus)"
   ]
  },
  {
   "cell_type": "code",
   "execution_count": 23,
   "id": "eb643e77-5e4c-425e-8b4a-48829db2d642",
   "metadata": {},
   "outputs": [
    {
     "name": "stdout",
     "output_type": "stream",
     "text": [
      "hello chandra mouli he want to be some xxx and he welcomes to his homr. \n",
      "he just want to be a invite you for some work in his house so please attend.\n",
      "here it was just a small kidding played by him.\n",
      "but please attend to this parti\n"
     ]
    }
   ],
   "source": [
    "print((s))"
   ]
  },
  {
   "cell_type": "code",
   "execution_count": 25,
   "id": "b0b726b8-711b-4ef9-b685-02ee38c0ea71",
   "metadata": {},
   "outputs": [
    {
     "data": {
      "text/plain": [
       "'call'"
      ]
     },
     "execution_count": 25,
     "metadata": {},
     "output_type": "execute_result"
    }
   ],
   "source": [
    "stemm.stem('Calling')"
   ]
  },
  {
   "cell_type": "code",
   "execution_count": 27,
   "id": "95723917-11d9-4371-9017-7cce9391cde2",
   "metadata": {},
   "outputs": [
    {
     "data": {
      "text/plain": [
       "'talk'"
      ]
     },
     "execution_count": 27,
     "metadata": {},
     "output_type": "execute_result"
    }
   ],
   "source": [
    "stemm.stem('Talking')"
   ]
  },
  {
   "cell_type": "markdown",
   "id": "2da1e3c3-d930-47b0-9e02-d0b3e8124694",
   "metadata": {},
   "source": [
    "## These are the basic things from the tokenizer and stemming "
   ]
  },
  {
   "cell_type": "code",
   "execution_count": null,
   "id": "bc8bb2f5-01ee-4502-b4de-1cca57586e84",
   "metadata": {},
   "outputs": [],
   "source": []
  }
 ],
 "metadata": {
  "kernelspec": {
   "display_name": "Python 3 (ipykernel)",
   "language": "python",
   "name": "python3"
  },
  "language_info": {
   "codemirror_mode": {
    "name": "ipython",
    "version": 3
   },
   "file_extension": ".py",
   "mimetype": "text/x-python",
   "name": "python",
   "nbconvert_exporter": "python",
   "pygments_lexer": "ipython3",
   "version": "3.12.4"
  }
 },
 "nbformat": 4,
 "nbformat_minor": 5
}
